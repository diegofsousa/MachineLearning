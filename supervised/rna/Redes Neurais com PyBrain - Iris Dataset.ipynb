{
 "cells": [
  {
   "cell_type": "code",
   "execution_count": 25,
   "metadata": {
    "collapsed": false
   },
   "outputs": [
    {
     "name": "stdout",
     "output_type": "stream",
     "text": [
      "150\n",
      "150\n"
     ]
    }
   ],
   "source": [
    "import numpy as np\n",
    "\n",
    "# carregando os dados com numpy\n",
    "entradas = np.genfromtxt('iris.data', delimiter=',', usecols=(0,1,2,3))\n",
    "saidas = np.genfromtxt('iris.data', delimiter=',', usecols=(4))\n",
    "print(len(entradas))\n",
    "print(len(saidas))"
   ]
  },
  {
   "cell_type": "code",
   "execution_count": 26,
   "metadata": {
    "collapsed": false
   },
   "outputs": [
    {
     "name": "stdout",
     "output_type": "stream",
     "text": [
      "[[ 5.1  3.5  1.4  0.2]\n",
      " [ 4.9  3.   1.4  0.2]\n",
      " [ 4.7  3.2  1.3  0.2]\n",
      " [ 4.6  3.1  1.5  0.2]\n",
      " [ 5.   3.6  1.4  0.2]]\n",
      "[ 0.  0.  0.  0.  0.]\n",
      " ---------------------- \n",
      "[[ 6.7  3.   5.2  2.3]\n",
      " [ 6.3  2.5  5.   1.9]\n",
      " [ 6.5  3.   5.2  2. ]\n",
      " [ 6.2  3.4  5.4  2.3]\n",
      " [ 5.9  3.   5.1  1.8]]\n",
      "[ 2.  2.  2.  2.  2.]\n"
     ]
    }
   ],
   "source": [
    "'''\n",
    "Iris-setosa: 0\n",
    "Iris-versicolor: 1\n",
    "Iris-virginica: 2\n",
    "'''\n",
    "\n",
    "# mostrando as 5 primeiras amostras que são Iris-setosa\n",
    "print(entradas[:5])\n",
    "print(saidas[:5])\n",
    "\n",
    "print(' ---------------------- ')\n",
    "\n",
    "# mostrando as 5 últimas amostras que são Iris-virgínica\n",
    "print(entradas[-5:])\n",
    "print(saidas[-5:])"
   ]
  },
  {
   "cell_type": "code",
   "execution_count": 27,
   "metadata": {
    "collapsed": false
   },
   "outputs": [
    {
     "name": "stdout",
     "output_type": "stream",
     "text": [
      "105\n",
      "105\n"
     ]
    }
   ],
   "source": [
    "# vou utilizar 105 amostras para treino sendo 35 de cada classe\n",
    "entradas_treino = np.concatenate((entradas[:35], entradas[50:85], entradas[100:135]))\n",
    "saidas_treino = np.concatenate((saidas[:35], saidas[50:85], saidas[100:135]))\n",
    "print(len(entradas_treino))\n",
    "print(len(saidas_treino))"
   ]
  },
  {
   "cell_type": "code",
   "execution_count": 28,
   "metadata": {
    "collapsed": false
   },
   "outputs": [
    {
     "name": "stdout",
     "output_type": "stream",
     "text": [
      "45\n",
      "45\n"
     ]
    }
   ],
   "source": [
    "entradas_teste = np.concatenate((entradas[35:50], entradas[85:100], entradas[135:]))\n",
    "saidas_teste = np.concatenate((saidas[35:50], saidas[85:100], saidas[135:]))\n",
    "print(len(entradas_teste))\n",
    "print(len(saidas_teste))"
   ]
  },
  {
   "cell_type": "code",
   "execution_count": 29,
   "metadata": {
    "collapsed": true
   },
   "outputs": [],
   "source": [
    "from pybrain.datasets import SupervisedDataSet\n",
    "from pybrain.tools.shortcuts import buildNetwork\n",
    "from pybrain.supervised import BackpropTrainer"
   ]
  },
  {
   "cell_type": "code",
   "execution_count": 30,
   "metadata": {
    "collapsed": false,
    "scrolled": true
   },
   "outputs": [
    {
     "name": "stdout",
     "output_type": "stream",
     "text": [
      "105\n",
      "4\n",
      "1\n"
     ]
    }
   ],
   "source": [
    "treinamento = SupervisedDataSet(4, 1)\n",
    "for i in range(len(entradas_treino)):\n",
    "    treinamento.addSample(entradas_treino[i], saidas_treino[i])\n",
    "print(len(treinamento))\n",
    "print(treinamento.indim)\n",
    "print(treinamento.outdim)"
   ]
  },
  {
   "cell_type": "code",
   "execution_count": 31,
   "metadata": {
    "collapsed": false
   },
   "outputs": [
    {
     "name": "stdout",
     "output_type": "stream",
     "text": [
      "\n",
      "Testing on data:\n",
      "('out:    ', '[0.014 ]')\n",
      "('correct:', '[0     ]')\n",
      "error:  0.00009719\n",
      "('out:    ', '[0.005 ]')\n",
      "('correct:', '[0     ]')\n",
      "error:  0.00001315\n",
      "('out:    ', '[0.019 ]')\n",
      "('correct:', '[0     ]')\n",
      "error:  0.00018709\n",
      "('out:    ', '[0.03  ]')\n",
      "('correct:', '[0     ]')\n",
      "error:  0.00044108\n",
      "('out:    ', '[0.013 ]')\n",
      "('correct:', '[0     ]')\n",
      "error:  0.00008598\n",
      "('out:    ', '[0.012 ]')\n",
      "('correct:', '[0     ]')\n",
      "error:  0.00006885\n",
      "('out:    ', '[0.073 ]')\n",
      "('correct:', '[0     ]')\n",
      "error:  0.00264582\n",
      "('out:    ', '[0.023 ]')\n",
      "('correct:', '[0     ]')\n",
      "error:  0.00026383\n",
      "('out:    ', '[0.032 ]')\n",
      "('correct:', '[0     ]')\n",
      "error:  0.00052613\n",
      "('out:    ', '[0.019 ]')\n",
      "('correct:', '[0     ]')\n",
      "error:  0.00018603\n",
      "('out:    ', '[0.031 ]')\n",
      "('correct:', '[0     ]')\n",
      "error:  0.00048639\n",
      "('out:    ', '[0.007 ]')\n",
      "('correct:', '[0     ]')\n",
      "error:  0.00002188\n",
      "('out:    ', '[0.022 ]')\n",
      "('correct:', '[0     ]')\n",
      "error:  0.00024718\n",
      "('out:    ', '[0.006 ]')\n",
      "('correct:', '[0     ]')\n",
      "error:  0.00001570\n",
      "('out:    ', '[0.015 ]')\n",
      "('correct:', '[0     ]')\n",
      "error:  0.00010843\n",
      "('out:    ', '[1.13  ]')\n",
      "('correct:', '[1     ]')\n",
      "error:  0.00839118\n",
      "('out:    ', '[1.176 ]')\n",
      "('correct:', '[1     ]')\n",
      "error:  0.01552122\n",
      "('out:    ', '[1.36  ]')\n",
      "('correct:', '[1     ]')\n",
      "error:  0.06481505\n",
      "('out:    ', '[0.962 ]')\n",
      "('correct:', '[1     ]')\n",
      "error:  0.00071280\n",
      "('out:    ', '[1.201 ]')\n",
      "('correct:', '[1     ]')\n",
      "error:  0.02020064\n",
      "('out:    ', '[1.272 ]')\n",
      "('correct:', '[1     ]')\n",
      "error:  0.03704147\n",
      "('out:    ', '[1.211 ]')\n",
      "('correct:', '[1     ]')\n",
      "error:  0.02233927\n",
      "('out:    ', '[1.003 ]')\n",
      "('correct:', '[1     ]')\n",
      "error:  0.00000462\n",
      "('out:    ', '[0.794 ]')\n",
      "('correct:', '[1     ]')\n",
      "error:  0.02116630\n",
      "('out:    ', '[1.178 ]')\n",
      "('correct:', '[1     ]')\n",
      "error:  0.01581547\n",
      "('out:    ', '[0.912 ]')\n",
      "('correct:', '[1     ]')\n",
      "error:  0.00387732\n",
      "('out:    ', '[1.049 ]')\n",
      "('correct:', '[1     ]')\n",
      "error:  0.00120390\n",
      "('out:    ', '[1.004 ]')\n",
      "('correct:', '[1     ]')\n",
      "error:  0.00000646\n",
      "('out:    ', '[0.619 ]')\n",
      "('correct:', '[1     ]')\n",
      "error:  0.07258145\n",
      "('out:    ', '[1.051 ]')\n",
      "('correct:', '[1     ]')\n",
      "error:  0.00129151\n",
      "('out:    ', '[2.051 ]')\n",
      "('correct:', '[2     ]')\n",
      "error:  0.00132157\n",
      "('out:    ', '[2.01  ]')\n",
      "('correct:', '[2     ]')\n",
      "error:  0.00004601\n",
      "('out:    ', '[1.802 ]')\n",
      "('correct:', '[2     ]')\n",
      "error:  0.01954208\n",
      "('out:    ', '[1.634 ]')\n",
      "('correct:', '[2     ]')\n",
      "error:  0.06689784\n",
      "('out:    ', '[1.864 ]')\n",
      "('correct:', '[2     ]')\n",
      "error:  0.00930680\n",
      "('out:    ', '[2.04  ]')\n",
      "('correct:', '[2     ]')\n",
      "error:  0.00078073\n",
      "('out:    ', '[1.87  ]')\n",
      "('correct:', '[2     ]')\n",
      "error:  0.00849221\n",
      "('out:    ', '[1.92  ]')\n",
      "('correct:', '[2     ]')\n",
      "error:  0.00318729\n",
      "('out:    ', '[2.039 ]')\n",
      "('correct:', '[2     ]')\n",
      "error:  0.00077388\n",
      "('out:    ', '[2.049 ]')\n",
      "('correct:', '[2     ]')\n",
      "error:  0.00118724\n",
      "('out:    ', '[1.944 ]')\n",
      "('correct:', '[2     ]')\n",
      "error:  0.00155293\n",
      "('out:    ', '[1.899 ]')\n",
      "('correct:', '[2     ]')\n",
      "error:  0.00512446\n",
      "('out:    ', '[1.83  ]')\n",
      "('correct:', '[2     ]')\n",
      "error:  0.01436583\n",
      "('out:    ', '[1.938 ]')\n",
      "('correct:', '[2     ]')\n",
      "error:  0.00194120\n",
      "('out:    ', '[1.764 ]')\n",
      "('correct:', '[2     ]')\n",
      "error:  0.02774031\n",
      "('All errors:', [9.7185747429346644e-05, 1.3147184819714332e-05, 0.00018709007060042663, 0.00044107606839771007, 8.5977959347794015e-05, 6.8852274450422333e-05, 0.0026458243274493569, 0.00026382770388209227, 0.00052612521353300151, 0.00018602514091355495, 0.00048638747487989009, 2.1884027595941516e-05, 0.00024718304597054009, 1.5696462009200103e-05, 0.00010843491955389924, 0.0083911779391114775, 0.015521220993046678, 0.06481504534246027, 0.00071279734849773993, 0.020200636539841735, 0.037041469374975343, 0.022339274149333673, 4.6195575261310191e-06, 0.021166300857279521, 0.015815467450078363, 0.0038773175184086874, 0.0012038956441538153, 6.4635070730127739e-06, 0.072581448161797624, 0.0012915134576221177, 0.0013215703704574301, 4.6010495895107307e-05, 0.019542075422610692, 0.06689783709078076, 0.0093067988819251438, 0.00078073395887568614, 0.0084922135077142788, 0.0031872924296300984, 0.00077388392562273639, 0.0011872374566120815, 0.0015529252581718959, 0.0051244618764874992, 0.01436583166581757, 0.0019412037092262269, 0.027740306738537123])\n",
      "('Average error:', 0.010058305516675635)\n",
      "('Max error:', 0.072581448161797624, 'Median error:', 0.0012915134576221177)\n"
     ]
    },
    {
     "data": {
      "text/plain": [
       "0.010058305516675635"
      ]
     },
     "execution_count": 31,
     "metadata": {},
     "output_type": "execute_result"
    }
   ],
   "source": [
    "# construindo a rede\n",
    "rede = buildNetwork(treinamento.indim, 2, treinamento.outdim, bias=True)\n",
    "trainer = BackpropTrainer(rede, treinamento, learningrate=0.01, momentum=0.3)\n",
    "\n",
    "# treinando a rede\n",
    "for epoca in range(1000):\n",
    "    trainer.train()\n",
    "    \n",
    "# testando a rede\n",
    "teste = SupervisedDataSet(4, 1)\n",
    "for i in range(len(entradas_teste)):\n",
    "    teste.addSample(entradas_teste[i], saidas_teste[i])\n",
    "trainer.testOnData(teste, verbose=True)"
   ]
  }
 ],
 "metadata": {
  "kernelspec": {
   "display_name": "Python 3",
   "language": "python",
   "name": "python3"
  },
  "language_info": {
   "codemirror_mode": {
    "name": "ipython",
    "version": 3
   },
   "file_extension": ".py",
   "mimetype": "text/x-python",
   "name": "python",
   "nbconvert_exporter": "python",
   "pygments_lexer": "ipython3",
   "version": "3.4.3"
  }
 },
 "nbformat": 4,
 "nbformat_minor": 2
}
