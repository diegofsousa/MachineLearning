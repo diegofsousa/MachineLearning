{
 "cells": [
  {
   "cell_type": "code",
   "execution_count": 1,
   "metadata": {
    "collapsed": false
   },
   "outputs": [
    {
     "name": "stdout",
     "output_type": "stream",
     "text": [
      "150\n",
      "150\n"
     ]
    }
   ],
   "source": [
    "import numpy as np\n",
    "\n",
    "# carregando os dados com numpy\n",
    "entradas = np.genfromtxt('iris.data', delimiter=',', usecols=(0,1,2,3))\n",
    "saidas = np.genfromtxt('iris.data', delimiter=',', usecols=(4))\n",
    "print(len(entradas))\n",
    "print(len(saidas))"
   ]
  },
  {
   "cell_type": "code",
   "execution_count": 3,
   "metadata": {
    "collapsed": false
   },
   "outputs": [
    {
     "name": "stdout",
     "output_type": "stream",
     "text": [
      "[[ 5.1  3.5  1.4  0.2]\n",
      " [ 4.9  3.   1.4  0.2]\n",
      " [ 4.7  3.2  1.3  0.2]\n",
      " [ 4.6  3.1  1.5  0.2]\n",
      " [ 5.   3.6  1.4  0.2]]\n",
      "[ 0.  0.  0.  0.  0.]\n",
      " ---------------------- \n",
      "[[ 6.7  3.   5.2  2.3]\n",
      " [ 6.3  2.5  5.   1.9]\n",
      " [ 6.5  3.   5.2  2. ]\n",
      " [ 6.2  3.4  5.4  2.3]\n",
      " [ 5.9  3.   5.1  1.8]]\n",
      "[ 2.  2.  2.  2.  2.]\n"
     ]
    }
   ],
   "source": [
    "'''\n",
    "Iris-setosa: 0\n",
    "Iris-versicolor: 1\n",
    "Iris-virginica: 2\n",
    "'''\n",
    "\n",
    "# mostrando as 5 primeiras amostras que são Iris-setosa\n",
    "print(entradas[:5])\n",
    "print(saidas[:5])\n",
    "\n",
    "print(' ---------------------- ')\n",
    "\n",
    "# mostrando as 5 últimas amostras que são Iris-virgínica\n",
    "print(entradas[-5:])\n",
    "print(saidas[-5:])"
   ]
  },
  {
   "cell_type": "code",
   "execution_count": 4,
   "metadata": {
    "collapsed": false
   },
   "outputs": [
    {
     "name": "stdout",
     "output_type": "stream",
     "text": [
      "105\n",
      "105\n"
     ]
    }
   ],
   "source": [
    "# vou utilizar 105 amostras para treino sendo 35 de cada classe\n",
    "entradas_treino = np.concatenate((entradas[:35], entradas[50:85], entradas[100:135]))\n",
    "saidas_treino = np.concatenate((saidas[:35], saidas[50:85], saidas[100:135]))\n",
    "print(len(entradas_treino))\n",
    "print(len(saidas_treino))"
   ]
  },
  {
   "cell_type": "code",
   "execution_count": 22,
   "metadata": {
    "collapsed": false
   },
   "outputs": [
    {
     "name": "stdout",
     "output_type": "stream",
     "text": [
      "45\n",
      "45\n"
     ]
    }
   ],
   "source": [
    "entradas_teste = np.concatenate((entradas[35:50], entradas[85:100], entradas[135:]))\n",
    "saidas_teste = np.concatenate((saidas[35:50], saidas[85:100], saidas[135:]))\n",
    "print(len(entradas_teste))\n",
    "print(len(saidas_teste))"
   ]
  },
  {
   "cell_type": "code",
   "execution_count": 12,
   "metadata": {
    "collapsed": true
   },
   "outputs": [],
   "source": [
    "from pybrain.datasets import SupervisedDataSet\n",
    "from pybrain.tools.shortcuts import buildNetwork\n",
    "from pybrain.supervised import BackpropTrainer"
   ]
  },
  {
   "cell_type": "code",
   "execution_count": 7,
   "metadata": {
    "collapsed": false,
    "scrolled": true
   },
   "outputs": [
    {
     "name": "stdout",
     "output_type": "stream",
     "text": [
      "105\n",
      "4\n",
      "1\n"
     ]
    }
   ],
   "source": [
    "treinamento = SupervisedDataSet(4, 1)\n",
    "for i in range(len(entradas_treino)):\n",
    "    treinamento.addSample(entradas_treino[i], saidas_treino[i])\n",
    "print(len(treinamento))\n",
    "print(treinamento.indim)\n",
    "print(treinamento.outdim)"
   ]
  },
  {
   "cell_type": "code",
   "execution_count": 24,
   "metadata": {
    "collapsed": false
   },
   "outputs": [
    {
     "name": "stdout",
     "output_type": "stream",
     "text": [
      "\n",
      "Testing on data:\n",
      "('out:    ', '[-0    ]')\n",
      "('correct:', '[0     ]')\n",
      "error:  0.00000008\n",
      "('out:    ', '[-0.006]')\n",
      "('correct:', '[0     ]')\n",
      "error:  0.00001798\n",
      "('out:    ', '[0.003 ]')\n",
      "('correct:', '[0     ]')\n",
      "error:  0.00000503\n",
      "('out:    ', '[0.014 ]')\n",
      "('correct:', '[0     ]')\n",
      "error:  0.00009304\n",
      "('out:    ', '[0.003 ]')\n",
      "('correct:', '[0     ]')\n",
      "error:  0.00000529\n",
      "('out:    ', '[0.006 ]')\n",
      "('correct:', '[0     ]')\n",
      "error:  0.00001710\n",
      "('out:    ', '[-0.004]')\n",
      "('correct:', '[0     ]')\n",
      "error:  0.00000741\n",
      "('out:    ', '[0.019 ]')\n",
      "('correct:', '[0     ]')\n",
      "error:  0.00017746\n",
      "('out:    ', '[0.007 ]')\n",
      "('correct:', '[0     ]')\n",
      "error:  0.00002486\n",
      "('out:    ', '[0.015 ]')\n",
      "('correct:', '[0     ]')\n",
      "error:  0.00011337\n",
      "('out:    ', '[0.002 ]')\n",
      "('correct:', '[0     ]')\n",
      "error:  0.00000221\n",
      "('out:    ', '[0.013 ]')\n",
      "('correct:', '[0     ]')\n",
      "error:  0.00008521\n",
      "('out:    ', '[0.013 ]')\n",
      "('correct:', '[0     ]')\n",
      "error:  0.00008346\n",
      "('out:    ', '[0.004 ]')\n",
      "('correct:', '[0     ]')\n",
      "error:  0.00000728\n",
      "('out:    ', '[0.003 ]')\n",
      "('correct:', '[0     ]')\n",
      "error:  0.00000487\n",
      "('out:    ', '[-0.002]')\n",
      "('correct:', '[1     ]')\n",
      "error:  0.50192178\n",
      "('out:    ', '[-0.017]')\n",
      "('correct:', '[1     ]')\n",
      "error:  0.51704283\n",
      "('out:    ', '[-0.02 ]')\n",
      "('correct:', '[1     ]')\n",
      "error:  0.52004583\n",
      "('out:    ', '[-0.001]')\n",
      "('correct:', '[1     ]')\n",
      "error:  0.50113155\n",
      "('out:    ', '[-0.008]')\n",
      "('correct:', '[1     ]')\n",
      "error:  0.50767323\n",
      "('out:    ', '[-0.003]')\n",
      "('correct:', '[1     ]')\n",
      "error:  0.50306373\n",
      "('out:    ', '[-0.009]')\n",
      "('correct:', '[1     ]')\n",
      "error:  0.50886456\n",
      "('out:    ', '[-0.011]')\n",
      "('correct:', '[1     ]')\n",
      "error:  0.51151904\n",
      "('out:    ', '[-0.004]')\n",
      "('correct:', '[1     ]')\n",
      "error:  0.50375725\n",
      "('out:    ', '[-0.005]')\n",
      "('correct:', '[1     ]')\n",
      "error:  0.50542028\n",
      "('out:    ', '[-0.002]')\n",
      "('correct:', '[1     ]')\n",
      "error:  0.50234004\n",
      "('out:    ', '[-0.004]')\n",
      "('correct:', '[1     ]')\n",
      "error:  0.50440292\n",
      "('out:    ', '[-0.013]')\n",
      "('correct:', '[1     ]')\n",
      "error:  0.51321882\n",
      "('out:    ', '[-0.005]')\n",
      "('correct:', '[1     ]')\n",
      "error:  0.50517594\n",
      "('out:    ', '[-0.007]')\n",
      "('correct:', '[1     ]')\n",
      "error:  0.50662751\n",
      "('out:    ', '[-0.025]')\n",
      "('correct:', '[2     ]')\n",
      "error:  2.04951384\n",
      "('out:    ', '[-0.004]')\n",
      "('correct:', '[2     ]')\n",
      "error:  2.00820993\n",
      "('out:    ', '[-0.009]')\n",
      "('correct:', '[2     ]')\n",
      "error:  2.01823137\n",
      "('out:    ', '[-0.007]')\n",
      "('correct:', '[2     ]')\n",
      "error:  2.01409565\n",
      "('out:    ', '[-0.018]')\n",
      "('correct:', '[2     ]')\n",
      "error:  2.03613499\n",
      "('out:    ', '[-0.015]')\n",
      "('correct:', '[2     ]')\n",
      "error:  2.03053746\n",
      "('out:    ', '[-0.019]')\n",
      "('correct:', '[2     ]')\n",
      "error:  2.03918798\n",
      "('out:    ', '[-0.006]')\n",
      "('correct:', '[2     ]')\n",
      "error:  2.01180325\n",
      "('out:    ', '[-0.014]')\n",
      "('correct:', '[2     ]')\n",
      "error:  2.02801009\n",
      "('out:    ', '[-0.013]')\n",
      "('correct:', '[2     ]')\n",
      "error:  2.02564395\n",
      "('out:    ', '[-0.018]')\n",
      "('correct:', '[2     ]')\n",
      "error:  2.03542589\n",
      "('out:    ', '[-0.017]')\n",
      "('correct:', '[2     ]')\n",
      "error:  2.03440169\n",
      "('out:    ', '[-0.014]')\n",
      "('correct:', '[2     ]')\n",
      "error:  2.02843412\n",
      "('out:    ', '[-0.003]')\n",
      "('correct:', '[2     ]')\n",
      "error:  2.00574074\n",
      "('out:    ', '[-0.003]')\n",
      "('correct:', '[2     ]')\n",
      "error:  2.00575021\n",
      "('All errors:', [7.5338275800997634e-08, 1.7982458293808053e-05, 5.0343120535274269e-06, 9.3040016721996973e-05, 5.2941056658495007e-06, 1.7102853724802518e-05, 7.4132729848706475e-06, 0.00017745682873251113, 2.4858551926897355e-05, 0.00011337103910490816, 2.212876120384565e-06, 8.5211813981230246e-05, 8.3461697120990213e-05, 7.2771190595822445e-06, 4.8696405912183705e-06, 0.50192178204120286, 0.51704282886114294, 0.52004583386537817, 0.50113155028515188, 0.50767323215036442, 0.50306372995768889, 0.50886456180017792, 0.51151904232642975, 0.5037572463398422, 0.50542027722417537, 0.50234004479228478, 0.50440291841428464, 0.51321881593719887, 0.50517593693157503, 0.50662751099976855, 2.0495138430137558, 2.0082099288175632, 2.0182313684224122, 2.0140956492806494, 2.0361349946365803, 2.0305374550491413, 2.0391879782034072, 2.0118032502111007, 2.0280100850155076, 2.0256439464886631, 2.0354258853602021, 2.0344016944080034, 2.0284341152879484, 2.0057407440586377, 2.0057502067243367])\n",
      "('Average error:', 0.84408824708508745)\n",
      "('Max error:', 2.0495138430137558, 'Median error:', 0.50542027722417537)\n"
     ]
    },
    {
     "data": {
      "text/plain": [
       "0.84408824708508745"
      ]
     },
     "execution_count": 24,
     "metadata": {},
     "output_type": "execute_result"
    }
   ],
   "source": [
    "# construindo a rede\n",
    "rede = buildNetwork(treinamento.indim, 2, treinamento.outdim, bias=True)\n",
    "trainer = BackpropTrainer(rede, treinamento, learningrate=0.01, momentum=0.3)\n",
    "\n",
    "# treinando a rede\n",
    "for epoca in range(1000):\n",
    "    trainer.train()\n",
    "    \n",
    "# testando a rede\n",
    "teste = SupervisedDataSet(4, 1)\n",
    "for i in range(len(entradas_teste)):\n",
    "    teste.addSample(entradas_teste[i], saidas_teste[i])\n",
    "trainer.testOnData(teste, verbose=True)"
   ]
  }
 ],
 "metadata": {
  "kernelspec": {
   "display_name": "Python 3",
   "language": "python",
   "name": "python3"
  },
  "language_info": {
   "codemirror_mode": {
    "name": "ipython",
    "version": 3
   },
   "file_extension": ".py",
   "mimetype": "text/x-python",
   "name": "python",
   "nbconvert_exporter": "python",
   "pygments_lexer": "ipython3",
   "version": "3.4.3"
  }
 },
 "nbformat": 4,
 "nbformat_minor": 2
}
