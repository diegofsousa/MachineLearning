{
 "cells": [
  {
   "cell_type": "code",
   "execution_count": 2,
   "metadata": {
    "collapsed": false,
    "deletable": true,
    "editable": true
   },
   "outputs": [
    {
     "name": "stdout",
     "output_type": "stream",
     "text": [
      "150\n",
      "150\n"
     ]
    }
   ],
   "source": [
    "import numpy as np\n",
    "\n",
    "# carregando os dados com numpy\n",
    "entradas = np.genfromtxt('iris.data', delimiter=',', usecols=(0,1,2,3))\n",
    "saidas = np.genfromtxt('iris.data', delimiter=',', usecols=(4))\n",
    "print(len(entradas))\n",
    "print(len(saidas))"
   ]
  },
  {
   "cell_type": "code",
   "execution_count": 3,
   "metadata": {
    "collapsed": false,
    "deletable": true,
    "editable": true
   },
   "outputs": [
    {
     "name": "stdout",
     "output_type": "stream",
     "text": [
      "[[ 5.1  3.5  1.4  0.2]\n",
      " [ 4.9  3.   1.4  0.2]\n",
      " [ 4.7  3.2  1.3  0.2]\n",
      " [ 4.6  3.1  1.5  0.2]\n",
      " [ 5.   3.6  1.4  0.2]]\n",
      "[ 0.  0.  0.  0.  0.]\n",
      "---------------------\n",
      "[[ 6.7  3.   5.2  2.3]\n",
      " [ 6.3  2.5  5.   1.9]\n",
      " [ 6.5  3.   5.2  2. ]\n",
      " [ 6.2  3.4  5.4  2.3]\n",
      " [ 5.9  3.   5.1  1.8]]\n",
      "[ 2.  2.  2.  2.  2.]\n"
     ]
    }
   ],
   "source": [
    "'''\n",
    "Iris-setosa: 0\n",
    "Iris-versicolor: 1\n",
    "Iris-virginica: 2\n",
    "'''\n",
    "\n",
    "# mostrando as 5 primeiras amostras que são Iris-setosa\n",
    "print(entradas[:5])\n",
    "print(saidas[:5])\n",
    "\n",
    "print('---------------------')\n",
    "\n",
    "# mostrando as 5 últimas amostras que são de Iris-virginica\n",
    "print(entradas[-5:])\n",
    "print(saidas[-5:])"
   ]
  },
  {
   "cell_type": "code",
   "execution_count": 4,
   "metadata": {
    "collapsed": false,
    "deletable": true,
    "editable": true
   },
   "outputs": [
    {
     "name": "stdout",
     "output_type": "stream",
     "text": [
      "105\n",
      "105\n"
     ]
    }
   ],
   "source": [
    "# vou utilizar 105 amostras para treino sendo 35 de cada classe\n",
    "entradas_treino = np.concatenate((entradas[:35], entradas[50:85], entradas[100:135]))\n",
    "saidas_treino = np.concatenate((saidas[:35], saidas[50:85], saidas[100:135]))\n",
    "print(len(entradas_treino))\n",
    "print(len(saidas_treino))"
   ]
  },
  {
   "cell_type": "code",
   "execution_count": 5,
   "metadata": {
    "collapsed": false,
    "deletable": true,
    "editable": true
   },
   "outputs": [
    {
     "name": "stdout",
     "output_type": "stream",
     "text": [
      "45\n",
      "45\n"
     ]
    }
   ],
   "source": [
    "entradas_teste = np.concatenate((entradas[35:50], entradas[85:100], entradas[135:]))\n",
    "saidas_teste = np.concatenate((saidas[35:50], saidas[85:100], saidas[135:]))\n",
    "print(len(entradas_teste))\n",
    "print(len(saidas_teste))"
   ]
  },
  {
   "cell_type": "code",
   "execution_count": 6,
   "metadata": {
    "collapsed": true,
    "deletable": true,
    "editable": true
   },
   "outputs": [],
   "source": [
    "from pybrain.datasets import SupervisedDataSet\n",
    "from pybrain.tools.shortcuts import buildNetwork\n",
    "from pybrain.supervised import BackpropTrainer"
   ]
  },
  {
   "cell_type": "code",
   "execution_count": 7,
   "metadata": {
    "collapsed": false,
    "deletable": true,
    "editable": true
   },
   "outputs": [
    {
     "name": "stdout",
     "output_type": "stream",
     "text": [
      "105\n",
      "4\n",
      "1\n"
     ]
    }
   ],
   "source": [
    "treinamento = SupervisedDataSet(4, 1)\n",
    "for i in range(len(entradas_treino)):\n",
    "    treinamento.addSample(entradas_treino[i], saidas_treino[i])\n",
    "print(len(treinamento))\n",
    "print(treinamento.indim)\n",
    "print(treinamento.outdim)"
   ]
  },
  {
   "cell_type": "code",
   "execution_count": null,
   "metadata": {
    "collapsed": false,
    "deletable": true,
    "editable": true,
    "scrolled": false
   },
   "outputs": [],
   "source": [
    "# construindo a rede\n",
    "rede = buildNetwork(treinamento.indim, 2, treinamento.outdim, bias=True)\n",
    "trainer = BackpropTrainer(rede, treinamento, learningrate=0.01, momentum=0.3)\n",
    "\n",
    "# treinando a rede\n",
    "for epoca in range(1000):\n",
    "    trainer.train()\n",
    "    \n",
    "# testando a rede\n",
    "teste = SupervisedDataSet(4, 1)\n",
    "for i in range(len(entradas_teste)):\n",
    "    teste.addSample(entradas_teste[i], saidas_teste[i])\n",
    "trainer.testOnData(teste, verbose=True)"
   ]
  },
  {
   "cell_type": "code",
   "execution_count": 13,
   "metadata": {
    "collapsed": false,
    "deletable": true,
    "editable": true,
    "scrolled": false
   },
   "outputs": [
    {
     "name": "stdout",
     "output_type": "stream",
     "text": [
      "\n",
      "Testing on data:\n",
      "('out:    ', '[0.002 ]')\n",
      "('correct:', '[0     ]')\n",
      "error:  0.00000146\n",
      "('out:    ', '[-0.011]')\n",
      "('correct:', '[0     ]')\n",
      "error:  0.00005868\n",
      "('out:    ', '[0.009 ]')\n",
      "('correct:', '[0     ]')\n",
      "error:  0.00004474\n",
      "('out:    ', '[0.031 ]')\n",
      "('correct:', '[0     ]')\n",
      "error:  0.00046851\n",
      "('out:    ', '[0.02  ]')\n",
      "('correct:', '[0     ]')\n",
      "error:  0.00020176\n",
      "('out:    ', '[0.025 ]')\n",
      "('correct:', '[0     ]')\n",
      "error:  0.00030072\n",
      "('out:    ', '[0.123 ]')\n",
      "('correct:', '[0     ]')\n",
      "error:  0.00760076\n",
      "('out:    ', '[0.016 ]')\n",
      "('correct:', '[0     ]')\n",
      "error:  0.00012982\n",
      "('out:    ', '[0.179 ]')\n",
      "('correct:', '[0     ]')\n",
      "error:  0.01604976\n",
      "('out:    ', '[0.111 ]')\n",
      "('correct:', '[0     ]')\n",
      "error:  0.00613965\n",
      "('out:    ', '[0.076 ]')\n",
      "('correct:', '[0     ]')\n",
      "error:  0.00288381\n",
      "('out:    ', '[0.003 ]')\n",
      "('correct:', '[0     ]')\n",
      "error:  0.00000416\n",
      "('out:    ', '[0.026 ]')\n",
      "('correct:', '[0     ]')\n",
      "error:  0.00034350\n",
      "('out:    ', '[-0.002]')\n",
      "('correct:', '[0     ]')\n",
      "error:  0.00000223\n",
      "('out:    ', '[0.017 ]')\n",
      "('correct:', '[0     ]')\n",
      "error:  0.00013839\n",
      "('out:    ', '[1.084 ]')\n",
      "('correct:', '[1     ]')\n",
      "error:  0.00351112\n",
      "('out:    ', '[1.106 ]')\n",
      "('correct:', '[1     ]')\n",
      "error:  0.00564062\n",
      "('out:    ', '[1.275 ]')\n",
      "('correct:', '[1     ]')\n",
      "error:  0.03769208\n",
      "('out:    ', '[0.973 ]')\n",
      "('correct:', '[1     ]')\n",
      "error:  0.00036054\n",
      "('out:    ', '[1.116 ]')\n",
      "('correct:', '[1     ]')\n",
      "error:  0.00676260\n",
      "('out:    ', '[1.246 ]')\n",
      "('correct:', '[1     ]')\n",
      "error:  0.03014556\n",
      "('out:    ', '[1.143 ]')\n",
      "('correct:', '[1     ]')\n",
      "error:  0.01029492\n",
      "('out:    ', '[0.976 ]')\n",
      "('correct:', '[1     ]')\n",
      "error:  0.00028689\n",
      "('out:    ', '[0.805 ]')\n",
      "('correct:', '[1     ]')\n",
      "error:  0.01909243\n",
      "('out:    ', '[1.111 ]')\n",
      "('correct:', '[1     ]')\n",
      "error:  0.00613680\n",
      "('out:    ', '[0.947 ]')\n",
      "('correct:', '[1     ]')\n",
      "error:  0.00140555\n",
      "('out:    ', '[1.021 ]')\n",
      "('correct:', '[1     ]')\n",
      "error:  0.00022248\n",
      "('out:    ', '[1     ]')\n",
      "('correct:', '[1     ]')\n",
      "error:  0.00000002\n",
      "('out:    ', '[0.751 ]')\n",
      "('correct:', '[1     ]')\n",
      "error:  0.03105931\n",
      "('out:    ', '[1.015 ]')\n",
      "('correct:', '[1     ]')\n",
      "error:  0.00011401\n",
      "('out:    ', '[2.058 ]')\n",
      "('correct:', '[2     ]')\n",
      "error:  0.00169497\n",
      "('out:    ', '[2.02  ]')\n",
      "('correct:', '[2     ]')\n",
      "error:  0.00020896\n",
      "('out:    ', '[1.853 ]')\n",
      "('correct:', '[2     ]')\n",
      "error:  0.01085394\n",
      "('out:    ', '[1.56  ]')\n",
      "('correct:', '[2     ]')\n",
      "error:  0.09676207\n",
      "('out:    ', '[1.826 ]')\n",
      "('correct:', '[2     ]')\n",
      "error:  0.01521855\n",
      "('out:    ', '[2.044 ]')\n",
      "('correct:', '[2     ]')\n",
      "error:  0.00095744\n",
      "('out:    ', '[1.741 ]')\n",
      "('correct:', '[2     ]')\n",
      "error:  0.03344248\n",
      "('out:    ', '[1.973 ]')\n",
      "('correct:', '[2     ]')\n",
      "error:  0.00037531\n",
      "('out:    ', '[2.058 ]')\n",
      "('correct:', '[2     ]')\n",
      "error:  0.00167415\n",
      "('out:    ', '[2.048 ]')\n",
      "('correct:', '[2     ]')\n",
      "error:  0.00113230\n",
      "('out:    ', '[1.907 ]')\n",
      "('correct:', '[2     ]')\n",
      "error:  0.00432224\n",
      "('out:    ', '[1.929 ]')\n",
      "('correct:', '[2     ]')\n",
      "error:  0.00251088\n",
      "('out:    ', '[1.812 ]')\n",
      "('correct:', '[2     ]')\n",
      "error:  0.01769126\n",
      "('out:    ', '[1.935 ]')\n",
      "('correct:', '[2     ]')\n",
      "error:  0.00212396\n",
      "('out:    ', '[1.799 ]')\n",
      "('correct:', '[2     ]')\n",
      "error:  0.02025410\n",
      "('All errors:', [1.4591719303563935e-06, 5.8680702477897467e-05, 4.473593366168655e-05, 0.00046850810590824541, 0.00020176455813756769, 0.00030072327766824888, 0.0076007595914832811, 0.00012981741767501047, 0.016049761425112018, 0.0061396459423386403, 0.0028838125071502514, 4.1568090688575811e-06, 0.00034350219419375144, 2.229894170185232e-06, 0.00013839365583436452, 0.0035111170581804776, 0.0056406166926478811, 0.037692083810442333, 0.00036054406970609964, 0.0067626026887774313, 0.030145556534183097, 0.010294924172895955, 0.00028689464615886886, 0.019092433870383878, 0.0061367960613597297, 0.001405546363135705, 0.00022247559487763888, 1.8275379383698343e-08, 0.031059314332140125, 0.00011400642146627888, 0.0016949672372989413, 0.0002089550504886935, 0.010853944031803949, 0.096762067068329377, 0.015218548076162674, 0.00095743897075626651, 0.033442481483006742, 0.00037530963385914263, 0.0016741473518147886, 0.0011322969325453448, 0.0043222439245647511, 0.0025108771165528779, 0.017691261926650579, 0.0021239607120952077, 0.020254099312560118])\n",
      "('Average error:', 0.0088070106801563276)\n",
      "('Max error:', 0.096762067068329377, 'Median error:', 0.0016949672372989413)\n"
     ]
    },
    {
     "data": {
      "text/plain": [
       "0.0088070106801563276"
      ]
     },
     "execution_count": 13,
     "metadata": {},
     "output_type": "execute_result"
    }
   ],
   "source": [
    "# construindo a rede\n",
    "rede = buildNetwork(treinamento.indim, 2, treinamento.outdim, bias=True)\n",
    "trainer = BackpropTrainer(rede, treinamento, learningrate=0.005, momentum=0.5)\n",
    "\n",
    "# treinando a rede\n",
    "for epoca in range(2000):\n",
    "    trainer.train()\n",
    "    \n",
    "# testando a rede\n",
    "teste = SupervisedDataSet(4, 1)\n",
    "for i in range(len(entradas_teste)):\n",
    "    teste.addSample(entradas_teste[i], saidas_teste[i])\n",
    "trainer.testOnData(teste, verbose=True)"
   ]
  },
  {
   "cell_type": "code",
   "execution_count": 15,
   "metadata": {
    "collapsed": false,
    "deletable": true,
    "editable": true
   },
   "outputs": [
    {
     "name": "stdout",
     "output_type": "stream",
     "text": [
      "\n",
      "Testing on data:\n",
      "('out:    ', '[0.014 ]')\n",
      "('correct:', '[0     ]')\n",
      "error:  0.00009121\n",
      "('out:    ', '[0.001 ]')\n",
      "('correct:', '[0     ]')\n",
      "error:  0.00000078\n",
      "('out:    ', '[0.023 ]')\n",
      "('correct:', '[0     ]')\n",
      "error:  0.00026014\n",
      "('out:    ', '[0.005 ]')\n",
      "('correct:', '[0     ]')\n",
      "error:  0.00001415\n",
      "('out:    ', '[-0.006]')\n",
      "('correct:', '[0     ]')\n",
      "error:  0.00001666\n",
      "('out:    ', '[-0.02 ]')\n",
      "('correct:', '[0     ]')\n",
      "error:  0.00020363\n",
      "('out:    ', '[0.334 ]')\n",
      "('correct:', '[0     ]')\n",
      "error:  0.05587620\n",
      "('out:    ', '[-0.021]')\n",
      "('correct:', '[0     ]')\n",
      "error:  0.00021614\n",
      "('out:    ', '[0.003 ]')\n",
      "('correct:', '[0     ]')\n",
      "error:  0.00000407\n",
      "('out:    ', '[-0.032]')\n",
      "('correct:', '[0     ]')\n",
      "error:  0.00050258\n",
      "('out:    ', '[0.057 ]')\n",
      "('correct:', '[0     ]')\n",
      "error:  0.00162375\n",
      "('out:    ', '[-0.04 ]')\n",
      "('correct:', '[0     ]')\n",
      "error:  0.00078372\n",
      "('out:    ', '[-0.01 ]')\n",
      "('correct:', '[0     ]')\n",
      "error:  0.00004558\n",
      "('out:    ', '[-0.029]')\n",
      "('correct:', '[0     ]')\n",
      "error:  0.00040706\n",
      "('out:    ', '[0.001 ]')\n",
      "('correct:', '[0     ]')\n",
      "error:  0.00000027\n",
      "('out:    ', '[0.843 ]')\n",
      "('correct:', '[1     ]')\n",
      "error:  0.01234573\n",
      "('out:    ', '[1.015 ]')\n",
      "('correct:', '[1     ]')\n",
      "error:  0.00011251\n",
      "('out:    ', '[1.11  ]')\n",
      "('correct:', '[1     ]')\n",
      "error:  0.00610156\n",
      "('out:    ', '[0.807 ]')\n",
      "('correct:', '[1     ]')\n",
      "error:  0.01863175\n",
      "('out:    ', '[1.038 ]')\n",
      "('correct:', '[1     ]')\n",
      "error:  0.00072240\n",
      "('out:    ', '[1.115 ]')\n",
      "('correct:', '[1     ]')\n",
      "error:  0.00666591\n",
      "('out:    ', '[1.021 ]')\n",
      "('correct:', '[1     ]')\n",
      "error:  0.00022658\n",
      "('out:    ', '[0.965 ]')\n",
      "('correct:', '[1     ]')\n",
      "error:  0.00060192\n",
      "('out:    ', '[0.873 ]')\n",
      "('correct:', '[1     ]')\n",
      "error:  0.00809584\n",
      "('out:    ', '[1.01  ]')\n",
      "('correct:', '[1     ]')\n",
      "error:  0.00004577\n",
      "('out:    ', '[0.802 ]')\n",
      "('correct:', '[1     ]')\n",
      "error:  0.01963064\n",
      "('out:    ', '[0.903 ]')\n",
      "('correct:', '[1     ]')\n",
      "error:  0.00472264\n",
      "('out:    ', '[0.952 ]')\n",
      "('correct:', '[1     ]')\n",
      "error:  0.00113510\n",
      "('out:    ', '[0.793 ]')\n",
      "('correct:', '[1     ]')\n",
      "error:  0.02148723\n",
      "('out:    ', '[0.93  ]')\n",
      "('correct:', '[1     ]')\n",
      "error:  0.00244211\n",
      "('out:    ', '[1.996 ]')\n",
      "('correct:', '[2     ]')\n",
      "error:  0.00000759\n",
      "('out:    ', '[1.973 ]')\n",
      "('correct:', '[2     ]')\n",
      "error:  0.00036103\n",
      "('out:    ', '[1.839 ]')\n",
      "('correct:', '[2     ]')\n",
      "error:  0.01290354\n",
      "('out:    ', '[1.545 ]')\n",
      "('correct:', '[2     ]')\n",
      "error:  0.10340930\n",
      "('out:    ', '[1.815 ]')\n",
      "('correct:', '[2     ]')\n",
      "error:  0.01708276\n",
      "('out:    ', '[2.01  ]')\n",
      "('correct:', '[2     ]')\n",
      "error:  0.00005488\n",
      "('out:    ', '[1.761 ]')\n",
      "('correct:', '[2     ]')\n",
      "error:  0.02862328\n",
      "('out:    ', '[1.956 ]')\n",
      "('correct:', '[2     ]')\n",
      "error:  0.00095855\n",
      "('out:    ', '[2.014 ]')\n",
      "('correct:', '[2     ]')\n",
      "error:  0.00009151\n",
      "('out:    ', '[2.011 ]')\n",
      "('correct:', '[2     ]')\n",
      "error:  0.00005513\n",
      "('out:    ', '[1.914 ]')\n",
      "('correct:', '[2     ]')\n",
      "error:  0.00368973\n",
      "('out:    ', '[1.876 ]')\n",
      "('correct:', '[2     ]')\n",
      "error:  0.00764377\n",
      "('out:    ', '[1.809 ]')\n",
      "('correct:', '[2     ]')\n",
      "error:  0.01822770\n",
      "('out:    ', '[1.925 ]')\n",
      "('correct:', '[2     ]')\n",
      "error:  0.00278234\n",
      "('out:    ', '[1.799 ]')\n",
      "('correct:', '[2     ]')\n",
      "error:  0.02029062\n",
      "('All errors:', [9.1212192365349609e-05, 7.7552102257862615e-07, 0.00026014421408198903, 1.4154735165341235e-05, 1.6660085818701093e-05, 0.00020363371539664155, 0.055876199752904261, 0.00021614242285191134, 4.0682513487679402e-06, 0.00050258026602230106, 0.0016237527376425738, 0.00078372171381169695, 4.5580298969912047e-05, 0.00040706025883009342, 2.668453853510766e-07, 0.012345733583808211, 0.00011250710479348179, 0.0061015568020194675, 0.018631750391275778, 0.00072240067357536768, 0.0066659110978477126, 0.00022658486457473117, 0.00060191687310484762, 0.0080958382593105307, 4.577119531694152e-05, 0.019630643109532171, 0.0047226378775034423, 0.0011351007413177852, 0.021487229942141011, 0.002442110293852804, 7.5912972507089789e-06, 0.00036103374189232451, 0.012903542835308857, 0.10340930014088417, 0.017082762124293105, 5.4884126108123393e-05, 0.02862328421216933, 0.00095854625086037599, 9.1510416231989545e-05, 5.5132930691231554e-05, 0.0036897303485161608, 0.0076437741126942332, 0.018227701649013113, 0.0027823390367402441, 0.020290617835897588])\n",
      "('Average error:', 0.0084265643751142948)\n",
      "('Max error:', 0.10340930014088417, 'Median error:', 0.00078372171381169695)\n"
     ]
    },
    {
     "data": {
      "text/plain": [
       "0.0084265643751142948"
      ]
     },
     "execution_count": 15,
     "metadata": {},
     "output_type": "execute_result"
    }
   ],
   "source": [
    "# construindo a rede\n",
    "rede = buildNetwork(treinamento.indim, 2, treinamento.outdim, bias=True)\n",
    "trainer = BackpropTrainer(rede, treinamento, learningrate=0.01, momentum=0.7)\n",
    "\n",
    "# treinando a rede\n",
    "for epoca in range(1000):\n",
    "    trainer.train()\n",
    "    \n",
    "# testando a rede\n",
    "teste = SupervisedDataSet(4, 1)\n",
    "for i in range(len(entradas_teste)):\n",
    "    teste.addSample(entradas_teste[i], saidas_teste[i])\n",
    "trainer.testOnData(teste, verbose=True)"
   ]
  }
 ],
 "metadata": {
  "kernelspec": {
   "display_name": "Python 3",
   "language": "python",
   "name": "python3"
  },
  "language_info": {
   "codemirror_mode": {
    "name": "ipython",
    "version": 3
   },
   "file_extension": ".py",
   "mimetype": "text/x-python",
   "name": "python",
   "nbconvert_exporter": "python",
   "pygments_lexer": "ipython3",
   "version": "3.4.3"
  }
 },
 "nbformat": 4,
 "nbformat_minor": 1
}
