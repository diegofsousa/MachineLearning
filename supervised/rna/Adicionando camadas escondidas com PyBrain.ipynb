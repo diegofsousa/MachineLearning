{
 "cells": [
  {
   "cell_type": "code",
   "execution_count": 1,
   "metadata": {
    "collapsed": true
   },
   "outputs": [],
   "source": [
    "# Classificação com PyBrain - XOR de 3 dimensões\n",
    "from pybrain.datasets import SupervisedDataSet\n",
    "from pybrain.tools.shortcuts import buildNetwork\n",
    "from pybrain.supervised import BackpropTrainer"
   ]
  },
  {
   "cell_type": "code",
   "execution_count": 2,
   "metadata": {
    "collapsed": true
   },
   "outputs": [],
   "source": [
    "dataset = SupervisedDataSet(3, 1)"
   ]
  },
  {
   "cell_type": "code",
   "execution_count": 3,
   "metadata": {
    "collapsed": true
   },
   "outputs": [],
   "source": [
    "dataset.addSample([0,0,0], [0])\n",
    "dataset.addSample([0,0,1], [1])\n",
    "dataset.addSample([0,1,0], [1])\n",
    "dataset.addSample([0,1,1], [0])\n",
    "dataset.addSample([1,0,0], [1])\n",
    "dataset.addSample([1,0,1], [0])\n",
    "dataset.addSample([1,1,0], [0])\n",
    "dataset.addSample([1,1,1], [1])"
   ]
  },
  {
   "cell_type": "code",
   "execution_count": 17,
   "metadata": {
    "collapsed": false
   },
   "outputs": [
    {
     "name": "stdout",
     "output_type": "stream",
     "text": [
      "\n",
      "Testing on data:\n",
      "('out:    ', '[0     ]')\n",
      "('correct:', '[0     ]')\n",
      "error:  0.00000000\n",
      "('out:    ', '[1     ]')\n",
      "('correct:', '[1     ]')\n",
      "error:  0.00000000\n",
      "('out:    ', '[1     ]')\n",
      "('correct:', '[1     ]')\n",
      "error:  0.00000000\n",
      "('out:    ', '[0     ]')\n",
      "('correct:', '[0     ]')\n",
      "error:  0.00000000\n",
      "('out:    ', '[1     ]')\n",
      "('correct:', '[1     ]')\n",
      "error:  0.00000000\n",
      "('out:    ', '[-0    ]')\n",
      "('correct:', '[0     ]')\n",
      "error:  0.00000000\n",
      "('out:    ', '[0     ]')\n",
      "('correct:', '[0     ]')\n",
      "error:  0.00000000\n",
      "('out:    ', '[1     ]')\n",
      "('correct:', '[1     ]')\n",
      "error:  0.00000000\n",
      "('All errors:', [2.8018901475555756e-14, 9.5608751303283785e-16, 1.1429807329439614e-13, 3.4189708785141501e-14, 9.6800188570705406e-17, 1.9924641614194961e-14, 2.3675151304271942e-14, 2.3763450332782627e-15])\n",
      "('Average error:', 2.7941963651055266e-14)\n",
      "('Max error:', 1.1429807329439614e-13, 'Median error:', 2.3675151304271942e-14)\n"
     ]
    },
    {
     "data": {
      "text/plain": [
       "2.7941963651055266e-14"
      ]
     },
     "execution_count": 17,
     "metadata": {},
     "output_type": "execute_result"
    }
   ],
   "source": [
    "network = buildNetwork(dataset.indim, 6, 6, dataset.outdim, bias=True)\n",
    "trainer = BackpropTrainer(network, dataset, learningrate=0.01, momentum=0.9)\n",
    "for i in range(1300):\n",
    "    trainer.train()\n",
    "\n",
    "test = SupervisedDataSet(3, 1)    \n",
    "\n",
    "test.addSample([0,0,0], [0])\n",
    "test.addSample([0,0,1], [1])\n",
    "test.addSample([0,1,0], [1])\n",
    "test.addSample([0,1,1], [0])\n",
    "test.addSample([1,0,0], [1])\n",
    "test.addSample([1,0,1], [0])\n",
    "test.addSample([1,1,0], [0])\n",
    "test.addSample([1,1,1], [1])\n",
    "\n",
    "trainer.testOnData(test, verbose=True)"
   ]
  },
  {
   "cell_type": "code",
   "execution_count": 21,
   "metadata": {
    "collapsed": false
   },
   "outputs": [
    {
     "name": "stdout",
     "output_type": "stream",
     "text": [
      "\n",
      "Testing on data:\n",
      "('out:    ', '[0     ]')\n",
      "('correct:', '[0     ]')\n",
      "error:  0.00000000\n",
      "('out:    ', '[1     ]')\n",
      "('correct:', '[1     ]')\n",
      "error:  0.00000000\n",
      "('out:    ', '[1     ]')\n",
      "('correct:', '[1     ]')\n",
      "error:  0.00000000\n",
      "('out:    ', '[0     ]')\n",
      "('correct:', '[0     ]')\n",
      "error:  0.00000000\n",
      "('out:    ', '[1     ]')\n",
      "('correct:', '[1     ]')\n",
      "error:  0.00000000\n",
      "('out:    ', '[0     ]')\n",
      "('correct:', '[0     ]')\n",
      "error:  0.00000000\n",
      "('out:    ', '[0     ]')\n",
      "('correct:', '[0     ]')\n",
      "error:  0.00000000\n",
      "('out:    ', '[1     ]')\n",
      "('correct:', '[1     ]')\n",
      "error:  0.00000000\n",
      "('All errors:', [5.042378109040651e-12, 1.6554843213838313e-11, 2.2760561661150266e-11, 8.1932487426430711e-11, 1.2553629515228104e-11, 4.3079924956840394e-11, 2.1631950284206631e-10, 2.0842075965767364e-10])\n",
      "('Average error:', 7.5833010922783554e-11)\n",
      "('Max error:', 2.1631950284206631e-10, 'Median error:', 4.3079924956840394e-11)\n"
     ]
    },
    {
     "data": {
      "text/plain": [
       "7.5833010922783554e-11"
      ]
     },
     "execution_count": 21,
     "metadata": {},
     "output_type": "execute_result"
    }
   ],
   "source": [
    "network = buildNetwork(dataset.indim, 4, dataset.outdim, bias=True)\n",
    "trainer = BackpropTrainer(network, dataset, learningrate=0.01, momentum=0.9)\n",
    "for i in range(1500):\n",
    "    trainer.train()\n",
    "\n",
    "test = SupervisedDataSet(3, 1)    \n",
    "\n",
    "test.addSample([0,0,0], [0])\n",
    "test.addSample([0,0,1], [1])\n",
    "test.addSample([0,1,0], [1])\n",
    "test.addSample([0,1,1], [0])\n",
    "test.addSample([1,0,0], [1])\n",
    "test.addSample([1,0,1], [0])\n",
    "test.addSample([1,1,0], [0])\n",
    "test.addSample([1,1,1], [1])\n",
    "\n",
    "trainer.testOnData(test, verbose=True)"
   ]
  }
 ],
 "metadata": {
  "kernelspec": {
   "display_name": "Python 3",
   "language": "python",
   "name": "python3"
  },
  "language_info": {
   "codemirror_mode": {
    "name": "ipython",
    "version": 3
   },
   "file_extension": ".py",
   "mimetype": "text/x-python",
   "name": "python",
   "nbconvert_exporter": "python",
   "pygments_lexer": "ipython3",
   "version": "3.4.3"
  }
 },
 "nbformat": 4,
 "nbformat_minor": 2
}
