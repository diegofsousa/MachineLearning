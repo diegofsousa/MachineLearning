{
 "cells": [
  {
   "cell_type": "code",
   "execution_count": 2,
   "metadata": {
    "collapsed": true,
    "deletable": true,
    "editable": true
   },
   "outputs": [],
   "source": [
    "# Classificação com PyBrain - XOR de 3 dimensões\n",
    "from pybrain.datasets import SupervisedDataSet\n",
    "from pybrain.tools.shortcuts import buildNetwork\n",
    "from pybrain.supervised import BackpropTrainer"
   ]
  },
  {
   "cell_type": "code",
   "execution_count": 3,
   "metadata": {
    "collapsed": true,
    "deletable": true,
    "editable": true
   },
   "outputs": [],
   "source": [
    "dataset = SupervisedDataSet(3, 1)"
   ]
  },
  {
   "cell_type": "code",
   "execution_count": 4,
   "metadata": {
    "collapsed": true,
    "deletable": true,
    "editable": true
   },
   "outputs": [],
   "source": [
    "dataset.addSample([0,0,0], [0])\n",
    "dataset.addSample([0,0,1], [1])\n",
    "dataset.addSample([0,1,0], [1])\n",
    "dataset.addSample([0,1,1], [0])\n",
    "dataset.addSample([1,0,0], [1])\n",
    "dataset.addSample([1,0,1], [0])\n",
    "dataset.addSample([1,1,0], [0])\n",
    "dataset.addSample([1,1,1], [1])"
   ]
  },
  {
   "cell_type": "code",
   "execution_count": 5,
   "metadata": {
    "collapsed": false,
    "deletable": true,
    "editable": true
   },
   "outputs": [
    {
     "name": "stdout",
     "output_type": "stream",
     "text": [
      "\n",
      "Testing on data:\n",
      "('out:    ', '[0     ]')\n",
      "('correct:', '[0     ]')\n",
      "error:  0.00000000\n",
      "('out:    ', '[1     ]')\n",
      "('correct:', '[1     ]')\n",
      "error:  0.00000000\n",
      "('out:    ', '[1     ]')\n",
      "('correct:', '[1     ]')\n",
      "error:  0.00000000\n",
      "('out:    ', '[0     ]')\n",
      "('correct:', '[0     ]')\n",
      "error:  0.00000000\n",
      "('out:    ', '[1     ]')\n",
      "('correct:', '[1     ]')\n",
      "error:  0.00000000\n",
      "('out:    ', '[0     ]')\n",
      "('correct:', '[0     ]')\n",
      "error:  0.00000000\n",
      "('out:    ', '[-0    ]')\n",
      "('correct:', '[0     ]')\n",
      "error:  0.00000000\n",
      "('out:    ', '[1     ]')\n",
      "('correct:', '[1     ]')\n",
      "error:  0.00000000\n",
      "('All errors:', [1.0250746734532497e-10, 4.7742288613124355e-11, 1.3694306375350781e-11, 4.5199225664600358e-11, 9.9817060050869281e-12, 3.919990270858618e-12, 1.2896254332114293e-11, 7.7208944029567773e-11])\n",
      "('Average error:', 3.914377282950351e-11)\n",
      "('Max error:', 1.0250746734532497e-10, 'Median error:', 4.5199225664600358e-11)\n"
     ]
    },
    {
     "data": {
      "text/plain": [
       "3.914377282950351e-11"
      ]
     },
     "execution_count": 5,
     "metadata": {},
     "output_type": "execute_result"
    }
   ],
   "source": [
    "network = buildNetwork(dataset.indim, 6, 6, dataset.outdim, bias=True)\n",
    "trainer = BackpropTrainer(network, dataset, learningrate=0.01, momentum=0.9)\n",
    "for i in range(1300):\n",
    "    trainer.train()\n",
    "\n",
    "test = SupervisedDataSet(3, 1)    \n",
    "\n",
    "test.addSample([0,0,0], [0])\n",
    "test.addSample([0,0,1], [1])\n",
    "test.addSample([0,1,0], [1])\n",
    "test.addSample([0,1,1], [0])\n",
    "test.addSample([1,0,0], [1])\n",
    "test.addSample([1,0,1], [0])\n",
    "test.addSample([1,1,0], [0])\n",
    "test.addSample([1,1,1], [1])\n",
    "\n",
    "trainer.testOnData(test, verbose=True)"
   ]
  },
  {
   "cell_type": "code",
   "execution_count": 8,
   "metadata": {
    "collapsed": false,
    "deletable": true,
    "editable": true
   },
   "outputs": [
    {
     "name": "stdout",
     "output_type": "stream",
     "text": [
      "\n",
      "Testing on data:\n",
      "('out:    ', '[0     ]')\n",
      "('correct:', '[0     ]')\n",
      "error:  0.00000000\n",
      "('out:    ', '[1     ]')\n",
      "('correct:', '[1     ]')\n",
      "error:  0.00000000\n",
      "('out:    ', '[1     ]')\n",
      "('correct:', '[1     ]')\n",
      "error:  0.00000000\n",
      "('out:    ', '[0     ]')\n",
      "('correct:', '[0     ]')\n",
      "error:  0.00000000\n",
      "('out:    ', '[1     ]')\n",
      "('correct:', '[1     ]')\n",
      "error:  0.00000000\n",
      "('out:    ', '[0     ]')\n",
      "('correct:', '[0     ]')\n",
      "error:  0.00000000\n",
      "('out:    ', '[0     ]')\n",
      "('correct:', '[0     ]')\n",
      "error:  0.00000000\n",
      "('out:    ', '[1     ]')\n",
      "('correct:', '[1     ]')\n",
      "error:  0.00000000\n",
      "('All errors:', [1.220936831967615e-18, 3.7012144933914748e-18, 2.9742711640513828e-19, 2.4378702903857982e-18, 1.4038498499426618e-18, 6.634925773400683e-18, 1.4442144412391812e-18, 2.3397536645170597e-19])\n",
      "('Average error:', 2.1718017703980323e-18)\n",
      "('Max error:', 6.634925773400683e-18, 'Median error:', 1.4442144412391812e-18)\n"
     ]
    },
    {
     "data": {
      "text/plain": [
       "2.1718017703980323e-18"
      ]
     },
     "execution_count": 8,
     "metadata": {},
     "output_type": "execute_result"
    }
   ],
   "source": [
    "network = buildNetwork(dataset.indim, 4, dataset.outdim, bias=True)\n",
    "trainer = BackpropTrainer(network, dataset, learningrate=0.01, momentum=0.9)\n",
    "for i in range(1500):\n",
    "    trainer.train()\n",
    "\n",
    "test = SupervisedDataSet(3, 1)    \n",
    "\n",
    "test.addSample([0,0,0], [0])\n",
    "test.addSample([0,0,1], [1])\n",
    "test.addSample([0,1,0], [1])\n",
    "test.addSample([0,1,1], [0])\n",
    "test.addSample([1,0,0], [1])\n",
    "test.addSample([1,0,1], [0])\n",
    "test.addSample([1,1,0], [0])\n",
    "test.addSample([1,1,1], [1])\n",
    "\n",
    "trainer.testOnData(test, verbose=True)"
   ]
  }
 ],
 "metadata": {
  "kernelspec": {
   "display_name": "Python 3",
   "language": "python",
   "name": "python3"
  },
  "language_info": {
   "codemirror_mode": {
    "name": "ipython",
    "version": 3
   },
   "file_extension": ".py",
   "mimetype": "text/x-python",
   "name": "python",
   "nbconvert_exporter": "python",
   "pygments_lexer": "ipython3",
   "version": "3.4.3"
  }
 },
 "nbformat": 4,
 "nbformat_minor": 2
}
