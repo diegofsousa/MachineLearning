{
 "cells": [
  {
   "cell_type": "code",
   "execution_count": 1,
   "metadata": {
    "collapsed": true
   },
   "outputs": [],
   "source": [
    "'''\n",
    "1. Class Name: 3 (L, B, R) \n",
    "2. Left-Weight: 5 (1, 2, 3, 4, 5) \n",
    "3. Left-Distance: 5 (1, 2, 3, 4, 5) \n",
    "4. Right-Weight: 5 (1, 2, 3, 4, 5) \n",
    "5. Right-Distance: 5 (1, 2, 3, 4, 5)\n",
    "\n",
    "São 625 exemplos, 4 atributos e 3 possíveis classes\n",
    "'''\n",
    "import numpy as np"
   ]
  },
  {
   "cell_type": "code",
   "execution_count": 2,
   "metadata": {
    "collapsed": false
   },
   "outputs": [
    {
     "name": "stdout",
     "output_type": "stream",
     "text": [
      "625\n",
      "625\n",
      "[[ 1.  1.  1.  1.]\n",
      " [ 1.  1.  1.  2.]\n",
      " [ 1.  1.  1.  3.]\n",
      " ..., \n",
      " [ 5.  5.  5.  3.]\n",
      " [ 5.  5.  5.  4.]\n",
      " [ 5.  5.  5.  5.]]\n",
      "[ 2.  3.  3.  3.  3.  3.  3.  3.  3.  3.  3.  3.  3.  3.  3.  3.  3.  3.\n",
      "  3.  3.  3.  3.  3.  3.  3.  1.  2.  3.  3.  3.  2.  3.  3.  3.  3.  3.\n",
      "  3.  3.  3.  3.  3.  3.  3.  3.  3.  3.  3.  3.  3.  3.  1.  1.  2.  3.\n",
      "  3.  1.  3.  3.  3.  3.  2.  3.  3.  3.  3.  3.  3.  3.  3.  3.  3.  3.\n",
      "  3.  3.  3.  1.  1.  1.  2.  3.  1.  2.  3.  3.  3.  1.  3.  3.  3.  3.\n",
      "  2.  3.  3.  3.  3.  3.  3.  3.  3.  3.  1.  1.  1.  1.  2.  1.  1.  3.\n",
      "  3.  3.  1.  3.  3.  3.  3.  1.  3.  3.  3.  3.  2.  3.  3.  3.  3.  1.\n",
      "  2.  3.  3.  3.  2.  3.  3.  3.  3.  3.  3.  3.  3.  3.  3.  3.  3.  3.\n",
      "  3.  3.  3.  3.  3.  3.  1.  1.  1.  2.  3.  1.  2.  3.  3.  3.  1.  3.\n",
      "  3.  3.  3.  2.  3.  3.  3.  3.  3.  3.  3.  3.  3.  1.  1.  1.  1.  1.\n",
      "  1.  1.  2.  3.  3.  1.  2.  3.  3.  3.  1.  3.  3.  3.  3.  1.  3.  3.\n",
      "  3.  3.  1.  1.  1.  1.  1.  1.  1.  1.  2.  3.  1.  1.  3.  3.  3.  1.\n",
      "  2.  3.  3.  3.  1.  3.  3.  3.  3.  1.  1.  1.  1.  1.  1.  1.  1.  1.\n",
      "  2.  1.  1.  1.  3.  3.  1.  1.  3.  3.  3.  1.  2.  3.  3.  3.  1.  1.\n",
      "  2.  3.  3.  1.  3.  3.  3.  3.  2.  3.  3.  3.  3.  3.  3.  3.  3.  3.\n",
      "  3.  3.  3.  3.  3.  1.  1.  1.  1.  1.  1.  1.  2.  3.  3.  1.  2.  3.\n",
      "  3.  3.  1.  3.  3.  3.  3.  1.  3.  3.  3.  3.  1.  1.  1.  1.  1.  1.\n",
      "  1.  1.  1.  3.  1.  1.  2.  3.  3.  1.  1.  3.  3.  3.  1.  3.  3.  3.\n",
      "  3.  1.  1.  1.  1.  1.  1.  1.  1.  1.  1.  1.  1.  1.  2.  3.  1.  1.\n",
      "  2.  3.  3.  1.  1.  3.  3.  3.  1.  1.  1.  1.  1.  1.  1.  1.  1.  1.\n",
      "  1.  1.  1.  1.  2.  1.  1.  1.  3.  3.  1.  1.  2.  3.  3.  1.  1.  1.\n",
      "  2.  3.  1.  2.  3.  3.  3.  1.  3.  3.  3.  3.  2.  3.  3.  3.  3.  3.\n",
      "  3.  3.  3.  3.  1.  1.  1.  1.  1.  1.  1.  1.  2.  3.  1.  1.  3.  3.\n",
      "  3.  1.  2.  3.  3.  3.  1.  3.  3.  3.  3.  1.  1.  1.  1.  1.  1.  1.\n",
      "  1.  1.  1.  1.  1.  1.  2.  3.  1.  1.  2.  3.  3.  1.  1.  3.  3.  3.\n",
      "  1.  1.  1.  1.  1.  1.  1.  1.  1.  1.  1.  1.  1.  1.  1.  1.  1.  1.\n",
      "  2.  3.  1.  1.  1.  3.  3.  1.  1.  1.  1.  1.  1.  1.  1.  1.  1.  1.\n",
      "  1.  1.  1.  1.  1.  1.  1.  1.  2.  1.  1.  1.  2.  3.  1.  1.  1.  1.\n",
      "  2.  1.  1.  3.  3.  3.  1.  3.  3.  3.  3.  1.  3.  3.  3.  3.  2.  3.\n",
      "  3.  3.  3.  1.  1.  1.  1.  1.  1.  1.  1.  1.  2.  1.  1.  1.  3.  3.\n",
      "  1.  1.  3.  3.  3.  1.  2.  3.  3.  3.  1.  1.  1.  1.  1.  1.  1.  1.\n",
      "  1.  1.  1.  1.  1.  1.  2.  1.  1.  1.  3.  3.  1.  1.  2.  3.  3.  1.\n",
      "  1.  1.  1.  1.  1.  1.  1.  1.  1.  1.  1.  1.  1.  1.  1.  1.  1.  1.\n",
      "  2.  1.  1.  1.  2.  3.  1.  1.  1.  1.  1.  1.  1.  1.  1.  1.  1.  1.\n",
      "  1.  1.  1.  1.  1.  1.  1.  1.  1.  1.  1.  1.  2.]\n"
     ]
    }
   ],
   "source": [
    "# x são as entradas e y são as saídas\n",
    "x = np.genfromtxt('dataset.data', delimiter=',', usecols=(1,2,3,4))\n",
    "y = np.genfromtxt('dataset.data', delimiter=',', usecols=(0))\n",
    "print(len(x))\n",
    "print(len(y))\n",
    "print(x)\n",
    "print(y)"
   ]
  },
  {
   "cell_type": "code",
   "execution_count": 3,
   "metadata": {
    "collapsed": true
   },
   "outputs": [],
   "source": [
    "from sklearn.model_selection import train_test_split"
   ]
  },
  {
   "cell_type": "code",
   "execution_count": 5,
   "metadata": {
    "collapsed": false
   },
   "outputs": [],
   "source": [
    "x_treino, x_teste, y_treino, y_teste = train_test_split(x, y, test_size=0.3, random_state=42)"
   ]
  },
  {
   "cell_type": "code",
   "execution_count": 6,
   "metadata": {
    "collapsed": false
   },
   "outputs": [
    {
     "name": "stdout",
     "output_type": "stream",
     "text": [
      "437\n"
     ]
    },
    {
     "data": {
      "text/plain": [
       "array([[ 2.,  4.,  1.,  5.],\n",
       "       [ 1.,  4.,  3.,  4.],\n",
       "       [ 5.,  1.,  5.,  3.],\n",
       "       ..., \n",
       "       [ 3.,  1.,  5.,  1.],\n",
       "       [ 4.,  3.,  3.,  1.],\n",
       "       [ 1.,  5.,  1.,  3.]])"
      ]
     },
     "execution_count": 6,
     "metadata": {},
     "output_type": "execute_result"
    }
   ],
   "source": [
    "print(len(x_treino))\n",
    "x_treino"
   ]
  },
  {
   "cell_type": "code",
   "execution_count": 7,
   "metadata": {
    "collapsed": false
   },
   "outputs": [
    {
     "data": {
      "text/plain": [
       "3.0"
      ]
     },
     "execution_count": 7,
     "metadata": {},
     "output_type": "execute_result"
    }
   ],
   "source": [
    "y_teste[0]"
   ]
  },
  {
   "cell_type": "code",
   "execution_count": 9,
   "metadata": {
    "collapsed": false
   },
   "outputs": [
    {
     "name": "stdout",
     "output_type": "stream",
     "text": [
      "188\n"
     ]
    },
    {
     "data": {
      "text/plain": [
       "array([ 1.,  1.,  1.,  1.,  1.,  1.,  3.,  1.,  1.,  3.,  3.,  3.,  1.,\n",
       "        3.,  1.,  1.,  3.,  3.,  3.,  1.,  3.,  3.,  3.,  1.,  1.,  1.,\n",
       "        3.,  1.,  1.,  1.,  1.,  3.,  3.,  1.,  3.,  1.,  1.,  1.,  1.,\n",
       "        1.,  1.,  3.,  1.,  1.,  3.,  1.,  1.,  3.,  1.,  3.,  1.,  1.,\n",
       "        3.,  3.,  1.,  1.,  3.,  1.,  1.,  1.,  1.,  1.,  3.,  3.,  1.,\n",
       "        1.,  3.,  3.,  1.,  1.,  3.,  3.,  3.,  3.,  3.,  1.,  1.,  3.,\n",
       "        1.,  3.,  3.,  3.,  3.,  1.,  3.,  1.,  1.,  1.,  3.,  1.,  1.,\n",
       "        1.,  3.,  1.,  1.,  3.,  3.,  3.,  3.,  3.,  1.,  3.,  3.,  3.,\n",
       "        1.,  1.,  1.,  3.,  3.,  1.,  3.,  1.,  3.,  3.,  1.,  3.,  1.,\n",
       "        1.,  1.,  1.,  3.,  3.,  1.,  3.,  3.,  3.,  3.,  3.,  1.,  3.,\n",
       "        1.,  1.,  1.,  3.,  1.,  1.,  1.,  3.,  1.,  1.,  1.,  1.,  3.,\n",
       "        3.,  1.,  3.,  3.,  1.,  3.,  3.,  3.,  3.,  3.,  1.,  1.,  3.,\n",
       "        1.,  1.,  3.,  1.,  1.,  3.,  3.,  1.,  1.,  1.,  3.,  1.,  3.,\n",
       "        3.,  1.,  3.,  3.,  3.,  1.,  1.,  1.,  1.,  3.,  1.,  3.,  3.,\n",
       "        1.,  3.,  3.,  3.,  3.,  1.])"
      ]
     },
     "execution_count": 9,
     "metadata": {},
     "output_type": "execute_result"
    }
   ],
   "source": [
    "from sklearn.neighbors import KNeighborsClassifier\n",
    "knn = KNeighborsClassifier(n_neighbors=17, p=2)\n",
    "knn.fit(x_treino, y_treino)\n",
    "labels = knn.predict(x_teste)\n",
    "print(len(labels))\n",
    "labels"
   ]
  },
  {
   "cell_type": "code",
   "execution_count": 10,
   "metadata": {
    "collapsed": false
   },
   "outputs": [
    {
     "data": {
      "text/plain": [
       "163"
      ]
     },
     "execution_count": 10,
     "metadata": {},
     "output_type": "execute_result"
    }
   ],
   "source": [
    "np.sum(labels == y_teste) # quantidade de acertos"
   ]
  },
  {
   "cell_type": "code",
   "execution_count": 13,
   "metadata": {
    "collapsed": false
   },
   "outputs": [
    {
     "data": {
      "text/plain": [
       "86.702127659574472"
      ]
     },
     "execution_count": 13,
     "metadata": {},
     "output_type": "execute_result"
    }
   ],
   "source": [
    "100 * (labels == y_teste).sum() / len(x_teste)"
   ]
  }
 ],
 "metadata": {
  "kernelspec": {
   "display_name": "Python 3",
   "language": "python",
   "name": "python3"
  },
  "language_info": {
   "codemirror_mode": {
    "name": "ipython",
    "version": 3
   },
   "file_extension": ".py",
   "mimetype": "text/x-python",
   "name": "python",
   "nbconvert_exporter": "python",
   "pygments_lexer": "ipython3",
   "version": "3.4.3"
  }
 },
 "nbformat": 4,
 "nbformat_minor": 2
}
